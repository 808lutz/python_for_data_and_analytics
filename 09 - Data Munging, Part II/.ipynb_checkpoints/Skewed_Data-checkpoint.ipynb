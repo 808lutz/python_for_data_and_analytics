{
 "cells": [
  {
   "cell_type": "markdown",
   "metadata": {},
   "source": [
    "This tutorial is based on **Python for Data Analysis Part 16: Preparing Numeric Data**: http://hamelg.blogspot.com/2015/11/python-for-data-analysis-part-16.html"
   ]
  },
  {
   "cell_type": "code",
   "execution_count": 1,
   "metadata": {
    "collapsed": true
   },
   "outputs": [],
   "source": [
    "%matplotlib inline\n",
    "import numpy as np              \n",
    "import pandas as pd\n",
    "from sklearn import preprocessing"
   ]
  },
  {
   "cell_type": "markdown",
   "metadata": {},
   "source": [
    "**Dealing With Skewed Data**\n",
    "\n",
    "The distribution of data - its overall shape and how it is spread out - can have a significant impact on analysis and modeling. Data that is roughly evenly spread around the mean value - known as normally distributed data - tends to be well-behaved. On the other hand, some data sets exhibit significant skewness or asymmetry. "
   ]
  },
  {
   "cell_type": "code",
   "execution_count": 8,
   "metadata": {},
   "outputs": [
    {
     "data": {
      "text/plain": [
       "array([[<matplotlib.axes._subplots.AxesSubplot object at 0x0000018B3A046C18>]], dtype=object)"
      ]
     },
     "execution_count": 8,
     "metadata": {},
     "output_type": "execute_result"
    },
    {
     "data": {
      "image/png": "[encoded data removed]",
      "text/plain": [
       "<matplotlib.figure.Figure at 0x18b39f79c18>"
      ]
     },
     "metadata": {},
     "output_type": "display_data"
    }
   ],
   "source": [
    "# Before we touch real data, let's generate a few sample distributions\n",
    "normally_distributed = np.random.normal(size=10000)  # Generate normal data*\n",
    "\n",
    "normally_distributed = pd.DataFrame(normally_distributed) # Convert to DF\n",
    "\n",
    "normally_distributed.hist(bins=30)     # Plot histogram      "
   ]
  },
  {
   "cell_type": "code",
   "execution_count": 9,
   "metadata": {},
   "outputs": [
    {
     "data": {
      "text/plain": [
       "array([[<matplotlib.axes._subplots.AxesSubplot object at 0x0000018B3B22AB70>]], dtype=object)"
      ]
     },
     "execution_count": 9,
     "metadata": {},
     "output_type": "execute_result"
    },
    {
     "data": {
      "image/png": "[encoded data removed]",
      "text/plain": [
       "<matplotlib.figure.Figure at 0x18b3b163208>"
      ]
     },
     "metadata": {},
     "output_type": "display_data"
    }
   ],
   "source": [
    "# Now let's generate some skewed data:\n",
    "skewed = np.random.exponential(scale=2, size= 10000) # Generate skewed data\n",
    "skewed = pd.DataFrame(skewed) # Convert to DF\n",
    "\n",
    "skewed.hist(bins=50) # Plot histogram\n",
    "                 "
   ]
  },
  {
   "cell_type": "markdown",
   "metadata": {},
   "source": [
    "**Transforming Skewed Data**\n",
    "\n",
    "Data with a long tail that goes off to the right is called positively skewed or right skewed. When you have a skewed distribution like the one above, the extreme values in the long tail can have a disproportionately large influence on whatever test you perform or models you build. Reducing skew may improve your results. Taking the square root of each data point or taking the natural logarithm of each data point are two simple transformations that can reduce skew."
   ]
  },
  {
   "cell_type": "code",
   "execution_count": 11,
   "metadata": {},
   "outputs": [
    {
     "data": {
      "text/plain": [
       "array([[<matplotlib.axes._subplots.AxesSubplot object at 0x0000018B3BA73630>]], dtype=object)"
      ]
     },
     "execution_count": 11,
     "metadata": {},
     "output_type": "execute_result"
    },
    {
     "data": {
      "image/png": "[encoded data removed]",
      "text/plain": [
       "<matplotlib.figure.Figure at 0x18b3b973ef0>"
      ]
     },
     "metadata": {},
     "output_type": "display_data"
    }
   ],
   "source": [
    "# Note: The df.apply() function applies a given function to each row or column of the DataFrame. \n",
    "# In this case we pass in np.sqrt to get the square root of each value.\n",
    "\n",
    "sqrt_transformed = skewed.apply(np.sqrt) # Get the square root of data points*\n",
    "sqrt_transformed.hist(bins=50) # Plot histogram\n",
    "                    "
   ]
  },
  {
   "cell_type": "code",
   "execution_count": 21,
   "metadata": {},
   "outputs": [
    {
     "data": {
      "text/plain": [
       "array([[<matplotlib.axes._subplots.AxesSubplot object at 0x0000018B3D864278>]], dtype=object)"
      ]
     },
     "execution_count": 21,
     "metadata": {},
     "output_type": "execute_result"
    },
    {
     "data": {
      "image/png": "[encoded data removed]",
      "text/plain": [
       "<matplotlib.figure.Figure at 0x18b3c861ac8>"
      ]
     },
     "metadata": {},
     "output_type": "display_data"
    }
   ],
   "source": [
    "# Now let's try log transformation\n",
    "log_transformed = (skewed+1).apply(np.log) # Get the log of the data\n",
    "\n",
    "log_transformed.hist(bins=50) # Plot histogram\n",
    "                           "
   ]
  },
  {
   "cell_type": "markdown",
   "metadata": {},
   "source": [
    "** Now let's try to do this with our diabetes dataset **"
   ]
  },
  {
   "cell_type": "code",
   "execution_count": 13,
   "metadata": {},
   "outputs": [
    {
     "data": {
      "text/html": [
       "<div>\n",
       "<style>\n",
       "    .dataframe thead tr:only-child th {\n",
       "        text-align: right;\n",
       "    }\n",
       "\n",
       "    .dataframe thead th {\n",
       "        text-align: left;\n",
       "    }\n",
       "\n",
       "    .dataframe tbody tr th {\n",
       "        vertical-align: top;\n",
       "    }\n",
       "</style>\n",
       "<table border=\"1\" class=\"dataframe\">\n",
       "  <thead>\n",
       "    <tr style=\"text-align: right;\">\n",
       "      <th></th>\n",
       "      <th>id</th>\n",
       "      <th>chol</th>\n",
       "      <th>stab.glu</th>\n",
       "      <th>hdl</th>\n",
       "      <th>ratio</th>\n",
       "      <th>glyhb</th>\n",
       "      <th>location</th>\n",
       "      <th>age</th>\n",
       "      <th>gender</th>\n",
       "      <th>height</th>\n",
       "      <th>weight</th>\n",
       "      <th>frame</th>\n",
       "      <th>bp.1s</th>\n",
       "      <th>bp.1d</th>\n",
       "      <th>waist</th>\n",
       "      <th>hip</th>\n",
       "    </tr>\n",
       "  </thead>\n",
       "  <tbody>\n",
       "    <tr>\n",
       "      <th>0</th>\n",
       "      <td>1000</td>\n",
       "      <td>203.0</td>\n",
       "      <td>82</td>\n",
       "      <td>56.0</td>\n",
       "      <td>3.6</td>\n",
       "      <td>4.31</td>\n",
       "      <td>Buckingham</td>\n",
       "      <td>46</td>\n",
       "      <td>female</td>\n",
       "      <td>62.0</td>\n",
       "      <td>121.0</td>\n",
       "      <td>medium</td>\n",
       "      <td>118.0</td>\n",
       "      <td>59.0</td>\n",
       "      <td>29.0</td>\n",
       "      <td>38.0</td>\n",
       "    </tr>\n",
       "    <tr>\n",
       "      <th>1</th>\n",
       "      <td>1001</td>\n",
       "      <td>165.0</td>\n",
       "      <td>97</td>\n",
       "      <td>24.0</td>\n",
       "      <td>6.9</td>\n",
       "      <td>4.44</td>\n",
       "      <td>Buckingham</td>\n",
       "      <td>29</td>\n",
       "      <td>female</td>\n",
       "      <td>64.0</td>\n",
       "      <td>218.0</td>\n",
       "      <td>large</td>\n",
       "      <td>112.0</td>\n",
       "      <td>68.0</td>\n",
       "      <td>46.0</td>\n",
       "      <td>48.0</td>\n",
       "    </tr>\n",
       "    <tr>\n",
       "      <th>2</th>\n",
       "      <td>1002</td>\n",
       "      <td>228.0</td>\n",
       "      <td>92</td>\n",
       "      <td>37.0</td>\n",
       "      <td>6.2</td>\n",
       "      <td>4.64</td>\n",
       "      <td>Buckingham</td>\n",
       "      <td>58</td>\n",
       "      <td>female</td>\n",
       "      <td>61.0</td>\n",
       "      <td>256.0</td>\n",
       "      <td>large</td>\n",
       "      <td>190.0</td>\n",
       "      <td>92.0</td>\n",
       "      <td>49.0</td>\n",
       "      <td>57.0</td>\n",
       "    </tr>\n",
       "    <tr>\n",
       "      <th>3</th>\n",
       "      <td>1003</td>\n",
       "      <td>78.0</td>\n",
       "      <td>93</td>\n",
       "      <td>12.0</td>\n",
       "      <td>6.5</td>\n",
       "      <td>4.63</td>\n",
       "      <td>Buckingham</td>\n",
       "      <td>67</td>\n",
       "      <td>male</td>\n",
       "      <td>67.0</td>\n",
       "      <td>119.0</td>\n",
       "      <td>large</td>\n",
       "      <td>110.0</td>\n",
       "      <td>50.0</td>\n",
       "      <td>33.0</td>\n",
       "      <td>38.0</td>\n",
       "    </tr>\n",
       "    <tr>\n",
       "      <th>4</th>\n",
       "      <td>1005</td>\n",
       "      <td>249.0</td>\n",
       "      <td>90</td>\n",
       "      <td>28.0</td>\n",
       "      <td>8.9</td>\n",
       "      <td>7.72</td>\n",
       "      <td>Buckingham</td>\n",
       "      <td>64</td>\n",
       "      <td>male</td>\n",
       "      <td>68.0</td>\n",
       "      <td>183.0</td>\n",
       "      <td>medium</td>\n",
       "      <td>138.0</td>\n",
       "      <td>80.0</td>\n",
       "      <td>44.0</td>\n",
       "      <td>41.0</td>\n",
       "    </tr>\n",
       "  </tbody>\n",
       "</table>\n",
       "</div>"
      ],
      "text/plain": [
       "     id   chol  stab.glu   hdl  ratio  glyhb    location  age  gender  height  \\\n",
       "0  1000  203.0        82  56.0    3.6   4.31  Buckingham   46  female    62.0   \n",
       "1  1001  165.0        97  24.0    6.9   4.44  Buckingham   29  female    64.0   \n",
       "2  1002  228.0        92  37.0    6.2   4.64  Buckingham   58  female    61.0   \n",
       "3  1003   78.0        93  12.0    6.5   4.63  Buckingham   67    male    67.0   \n",
       "4  1005  249.0        90  28.0    8.9   7.72  Buckingham   64    male    68.0   \n",
       "\n",
       "   weight   frame  bp.1s  bp.1d  waist   hip  \n",
       "0   121.0  medium  118.0   59.0   29.0  38.0  \n",
       "1   218.0   large  112.0   68.0   46.0  48.0  \n",
       "2   256.0   large  190.0   92.0   49.0  57.0  \n",
       "3   119.0   large  110.0   50.0   33.0  38.0  \n",
       "4   183.0  medium  138.0   80.0   44.0  41.0  "
      ]
     },
     "execution_count": 13,
     "metadata": {},
     "output_type": "execute_result"
    }
   ],
   "source": [
    "df = pd.read_csv(\"diabetes.csv\")\n",
    "df.head()"
   ]
  },
  {
   "cell_type": "code",
   "execution_count": 14,
   "metadata": {},
   "outputs": [
    {
     "data": {
      "text/html": [
       "<div>\n",
       "<style>\n",
       "    .dataframe thead tr:only-child th {\n",
       "        text-align: right;\n",
       "    }\n",
       "\n",
       "    .dataframe thead th {\n",
       "        text-align: left;\n",
       "    }\n",
       "\n",
       "    .dataframe tbody tr th {\n",
       "        vertical-align: top;\n",
       "    }\n",
       "</style>\n",
       "<table border=\"1\" class=\"dataframe\">\n",
       "  <thead>\n",
       "    <tr style=\"text-align: right;\">\n",
       "      <th></th>\n",
       "      <th>chol</th>\n",
       "      <th>stab.glu</th>\n",
       "      <th>hdl</th>\n",
       "      <th>ratio</th>\n",
       "      <th>glyhb</th>\n",
       "      <th>age</th>\n",
       "      <th>height</th>\n",
       "      <th>weight</th>\n",
       "      <th>bp.1s</th>\n",
       "      <th>bp.1d</th>\n",
       "      <th>waist</th>\n",
       "      <th>hip</th>\n",
       "    </tr>\n",
       "    <tr>\n",
       "      <th>id</th>\n",
       "      <th></th>\n",
       "      <th></th>\n",
       "      <th></th>\n",
       "      <th></th>\n",
       "      <th></th>\n",
       "      <th></th>\n",
       "      <th></th>\n",
       "      <th></th>\n",
       "      <th></th>\n",
       "      <th></th>\n",
       "      <th></th>\n",
       "      <th></th>\n",
       "    </tr>\n",
       "  </thead>\n",
       "  <tbody>\n",
       "    <tr>\n",
       "      <th>1000</th>\n",
       "      <td>203.0</td>\n",
       "      <td>82</td>\n",
       "      <td>56.0</td>\n",
       "      <td>3.6</td>\n",
       "      <td>4.31</td>\n",
       "      <td>46</td>\n",
       "      <td>62.0</td>\n",
       "      <td>121.0</td>\n",
       "      <td>118.0</td>\n",
       "      <td>59.0</td>\n",
       "      <td>29.0</td>\n",
       "      <td>38.0</td>\n",
       "    </tr>\n",
       "    <tr>\n",
       "      <th>1001</th>\n",
       "      <td>165.0</td>\n",
       "      <td>97</td>\n",
       "      <td>24.0</td>\n",
       "      <td>6.9</td>\n",
       "      <td>4.44</td>\n",
       "      <td>29</td>\n",
       "      <td>64.0</td>\n",
       "      <td>218.0</td>\n",
       "      <td>112.0</td>\n",
       "      <td>68.0</td>\n",
       "      <td>46.0</td>\n",
       "      <td>48.0</td>\n",
       "    </tr>\n",
       "    <tr>\n",
       "      <th>1002</th>\n",
       "      <td>228.0</td>\n",
       "      <td>92</td>\n",
       "      <td>37.0</td>\n",
       "      <td>6.2</td>\n",
       "      <td>4.64</td>\n",
       "      <td>58</td>\n",
       "      <td>61.0</td>\n",
       "      <td>256.0</td>\n",
       "      <td>190.0</td>\n",
       "      <td>92.0</td>\n",
       "      <td>49.0</td>\n",
       "      <td>57.0</td>\n",
       "    </tr>\n",
       "    <tr>\n",
       "      <th>1003</th>\n",
       "      <td>78.0</td>\n",
       "      <td>93</td>\n",
       "      <td>12.0</td>\n",
       "      <td>6.5</td>\n",
       "      <td>4.63</td>\n",
       "      <td>67</td>\n",
       "      <td>67.0</td>\n",
       "      <td>119.0</td>\n",
       "      <td>110.0</td>\n",
       "      <td>50.0</td>\n",
       "      <td>33.0</td>\n",
       "      <td>38.0</td>\n",
       "    </tr>\n",
       "    <tr>\n",
       "      <th>1005</th>\n",
       "      <td>249.0</td>\n",
       "      <td>90</td>\n",
       "      <td>28.0</td>\n",
       "      <td>8.9</td>\n",
       "      <td>7.72</td>\n",
       "      <td>64</td>\n",
       "      <td>68.0</td>\n",
       "      <td>183.0</td>\n",
       "      <td>138.0</td>\n",
       "      <td>80.0</td>\n",
       "      <td>44.0</td>\n",
       "      <td>41.0</td>\n",
       "    </tr>\n",
       "  </tbody>\n",
       "</table>\n",
       "</div>"
      ],
      "text/plain": [
       "       chol  stab.glu   hdl  ratio  glyhb  age  height  weight  bp.1s  bp.1d  \\\n",
       "id                                                                             \n",
       "1000  203.0        82  56.0    3.6   4.31   46    62.0   121.0  118.0   59.0   \n",
       "1001  165.0        97  24.0    6.9   4.44   29    64.0   218.0  112.0   68.0   \n",
       "1002  228.0        92  37.0    6.2   4.64   58    61.0   256.0  190.0   92.0   \n",
       "1003   78.0        93  12.0    6.5   4.63   67    67.0   119.0  110.0   50.0   \n",
       "1005  249.0        90  28.0    8.9   7.72   64    68.0   183.0  138.0   80.0   \n",
       "\n",
       "      waist   hip  \n",
       "id                 \n",
       "1000   29.0  38.0  \n",
       "1001   46.0  48.0  \n",
       "1002   49.0  57.0  \n",
       "1003   33.0  38.0  \n",
       "1005   44.0  41.0  "
      ]
     },
     "execution_count": 14,
     "metadata": {},
     "output_type": "execute_result"
    }
   ],
   "source": [
    "df.index = df.id       # Set row index to patient ID name\n",
    "df_num = df[['chol', 'stab.glu', 'hdl', 'ratio', 'glyhb', 'age', \n",
    "             'height', 'weight', 'bp.1s', 'bp.1d', 'waist', 'hip']]\n",
    "df_num.head()"
   ]
  },
  {
   "cell_type": "code",
   "execution_count": 16,
   "metadata": {},
   "outputs": [
    {
     "data": {
      "text/plain": [
       "<matplotlib.axes._subplots.AxesSubplot at 0x18b3bd263c8>"
      ]
     },
     "execution_count": 16,
     "metadata": {},
     "output_type": "execute_result"
    },
    {
     "data": {
      "image/png": "[encoded data removed]",
      "text/plain": [
       "<matplotlib.figure.Figure at 0x18b3bd48d68>"
      ]
     },
     "metadata": {},
     "output_type": "display_data"
    }
   ],
   "source": [
    "df_num[\"stab.glu\"].hist(bins=30)"
   ]
  },
  {
   "cell_type": "code",
   "execution_count": 19,
   "metadata": {},
   "outputs": [
    {
     "data": {
      "text/plain": [
       "<matplotlib.axes._subplots.AxesSubplot at 0x18b3c1b14a8>"
      ]
     },
     "execution_count": 19,
     "metadata": {},
     "output_type": "execute_result"
    },
    {
     "data": {
      "image/png": "[encoded data removed]",
      "text/plain": [
       "<matplotlib.figure.Figure at 0x18b3c6fd5c0>"
      ]
     },
     "metadata": {},
     "output_type": "display_data"
    }
   ],
   "source": [
    "# Let's try to apply square root transformation\n",
    "sqrt_transformed_col = df_num[\"stab.glu\"].apply(np.sqrt) # Get the square root of data points*\n",
    "sqrt_transformed_col.hist(bins=50) # Plot histogram"
   ]
  },
  {
   "cell_type": "code",
   "execution_count": 22,
   "metadata": {},
   "outputs": [
    {
     "data": {
      "text/plain": [
       "<matplotlib.axes._subplots.AxesSubplot at 0x18b3d952c18>"
      ]
     },
     "execution_count": 22,
     "metadata": {},
     "output_type": "execute_result"
    },
    {
     "data": {
      "image/png": "[encoded data removed]",
      "text/plain": [
       "<matplotlib.figure.Figure at 0x18b3d91ce48>"
      ]
     },
     "metadata": {},
     "output_type": "display_data"
    }
   ],
   "source": [
    "# Now let's try log transformation\n",
    "log_transformed_col = (df_num[\"stab.glu\"] + 1).apply(np.log) # Get the log of the data\n",
    "\n",
    "log_transformed_col.hist(bins=50) # Plot histogram"
   ]
  },
  {
   "cell_type": "code",
   "execution_count": null,
   "metadata": {
    "collapsed": true
   },
   "outputs": [],
   "source": []
  }
 ],
 "metadata": {
  "kernelspec": {
   "display_name": "Python 3",
   "language": "python",
   "name": "python3"
  },
  "language_info": {
   "codemirror_mode": {
    "name": "ipython",
    "version": 3
   },
   "file_extension": ".py",
   "mimetype": "text/x-python",
   "name": "python",
   "nbconvert_exporter": "python",
   "pygments_lexer": "ipython3",
   "version": "3.6.3"
  }
 },
 "nbformat": 4,
 "nbformat_minor": 2
}
