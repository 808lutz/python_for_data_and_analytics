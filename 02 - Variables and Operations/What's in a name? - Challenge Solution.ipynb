{
 "cells": [
  {
   "cell_type": "markdown",
   "metadata": {},
   "source": [
    "## What's in a (variable) name?\n",
    "Every programming language has its own preferred variable naming conventions and reserve words. Chapter 2 of the _Python 4 Everyone_ (CRS) book says that there are 33 reserved words in Python. A very literal programmer might try and name a variable storing the string `\"lambda\"` as `lambda` but will receive an error as shown in the cell below.\n",
    "\n",
    "### Challenge\n",
    "The challenge is simple. In most of the cells below, reserved words are used as variable names and they shouldn't be. In some of the cells, other illegal variable naming characters.<br>\n",
    "1. Change the variable names so that the cells execute without errors.\n",
    "2. Try other ways of re-naming the variables, such as camel-case. (Ex: Does `Lambda` give you an error?) Is changing the case (`lambda` vs `LAMBDA` vs `Lambda` etc.) a good programming practice?\n",
    "3. Get curious! The last cell contains an interactive verison of Jupyter notebook's `help()` function. If you're curious about the reserve words and why you can't use them or what to know what they actually do, try using this cell!\n",
    "\n",
    "Write comments or markdown cells as you go, especially for Step 2. This is a very simple challenge, but when programs get longer and more complicated you want to make sure you are using good variable names so that you don't forget what they mean!"
   ]
  },
  {
   "cell_type": "markdown",
   "metadata": {},
   "source": [
    "## Since this is renaming variables and working with legal names, there's no real right or wrong answer (as long as you don't get an answer as a result of your variable name). Different naming conventions are shown below, but are they good/efficient?"
   ]
  },
  {
   "cell_type": "code",
   "execution_count": 2,
   "metadata": {},
   "outputs": [
    {
     "name": "stdout",
     "output_type": "stream",
     "text": [
      "lambda is a Greek letter\n"
     ]
    }
   ],
   "source": [
    "letter_lambda = \"lambda\"\n",
    "print(letter_lambda + \" is a Greek letter\")"
   ]
  },
  {
   "cell_type": "code",
   "execution_count": 4,
   "metadata": {},
   "outputs": [
    {
     "name": "stdout",
     "output_type": "stream",
     "text": [
      "What class are you in? math\n"
     ]
    }
   ],
   "source": [
    "question = \"What class are you in?\"\n",
    "myclass = 'math'\n",
    "print(question, myclass)"
   ]
  },
  {
   "cell_type": "code",
   "execution_count": 7,
   "metadata": {},
   "outputs": [
    {
     "name": "stdout",
     "output_type": "stream",
     "text": [
      "What school year is it?\n",
      "School Year 17-18\n"
     ]
    }
   ],
   "source": [
    "schoolYear = \"School Year 17-18\"\n",
    "print(\"What school year is it?\")\n",
    "print(school_year)"
   ]
  },
  {
   "cell_type": "code",
   "execution_count": 6,
   "metadata": {},
   "outputs": [
    {
     "name": "stdout",
     "output_type": "stream",
     "text": [
      "Do you ship internationally?\n",
      "True\n"
     ]
    }
   ],
   "source": [
    "GlobalShip = True\n",
    "print(\"Do you ship internationally?\")\n",
    "print(GlobalShip)"
   ]
  },
  {
   "cell_type": "code",
   "execution_count": 8,
   "metadata": {},
   "outputs": [
    {
     "name": "stdout",
     "output_type": "stream",
     "text": [
      "Salary: $\n"
     ]
    }
   ],
   "source": [
    "# An employee gets a raise of $5000.\n",
    "RAISE = 5000\n",
    "salary = 30000 + RAISE\n",
    "print(\"Salary: $\")"
   ]
  },
  {
   "cell_type": "code",
   "execution_count": 9,
   "metadata": {},
   "outputs": [
    {
     "name": "stdout",
     "output_type": "stream",
     "text": [
      "Game name: Python Naming\n"
     ]
    }
   ],
   "source": [
    "my_game = \"Python Naming\"\n",
    "print(\"Game name:\", my_game)"
   ]
  },
  {
   "cell_type": "code",
   "execution_count": 7,
   "metadata": {},
   "outputs": [
    {
     "name": "stdout",
     "output_type": "stream",
     "text": [
      "\n",
      "Welcome to Python 3.6's help utility!\n",
      "\n",
      "If this is your first time using Python, you should definitely check out\n",
      "the tutorial on the Internet at http://docs.python.org/3.6/tutorial/.\n",
      "\n",
      "Enter the name of any module, keyword, or topic to get help on writing\n",
      "Python programs and using Python modules.  To quit this help utility and\n",
      "return to the interpreter, just type \"quit\".\n",
      "\n",
      "To get a list of available modules, keywords, symbols, or topics, type\n",
      "\"modules\", \"keywords\", \"symbols\", or \"topics\".  Each module also comes\n",
      "with a one-line summary of what it does; to list the modules whose name\n",
      "or summary contain a given string such as \"spam\", type \"modules spam\".\n",
      "\n",
      "help> lambda\n",
      "Lambdas\n",
      "*******\n",
      "\n",
      "   lambda_expr        ::= \"lambda\" [parameter_list]: expression\n",
      "   lambda_expr_nocond ::= \"lambda\" [parameter_list]: expression_nocond\n",
      "\n",
      "Lambda expressions (sometimes called lambda forms) are used to create\n",
      "anonymous functions. The expression \"lambda arguments: expression\"\n",
      "yields a function object.  The unnamed object behaves like a function\n",
      "object defined with:\n",
      "\n",
      "   def <lambda>(arguments):\n",
      "       return expression\n",
      "\n",
      "See section Function definitions for the syntax of parameter lists.\n",
      "Note that functions created with lambda expressions cannot contain\n",
      "statements or annotations.\n",
      "\n",
      "Related help topics: FUNCTIONS\n",
      "\n",
      "help> \n",
      "\n",
      "You are now leaving help and returning to the Python interpreter.\n",
      "If you want to ask for help on a particular object directly from the\n",
      "interpreter, you can type \"help(object)\".  Executing \"help('string')\"\n",
      "has the same effect as typing a particular string at the help> prompt.\n"
     ]
    }
   ],
   "source": [
    "# interactive help, to exit the command, enter a blank search term\n",
    "help()"
   ]
  },
  {
   "cell_type": "code",
   "execution_count": null,
   "metadata": {
    "collapsed": true
   },
   "outputs": [],
   "source": []
  }
 ],
 "metadata": {
  "kernelspec": {
   "display_name": "Python 3",
   "language": "python",
   "name": "python3"
  },
  "language_info": {
   "codemirror_mode": {
    "name": "ipython",
    "version": 3
   },
   "file_extension": ".py",
   "mimetype": "text/x-python",
   "name": "python",
   "nbconvert_exporter": "python",
   "pygments_lexer": "ipython3",
   "version": "3.6.1"
  }
 },
 "nbformat": 4,
 "nbformat_minor": 2
}
